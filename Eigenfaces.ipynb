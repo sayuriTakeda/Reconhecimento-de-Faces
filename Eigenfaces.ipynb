{
 "cells": [
  {
   "cell_type": "markdown",
   "metadata": {},
   "source": [
    "### Import "
   ]
  },
  {
   "cell_type": "code",
   "execution_count": 1,
   "metadata": {
    "collapsed": false
   },
   "outputs": [],
   "source": [
    "import pylab\n",
    "import pandas as pd\n",
    "import numpy as np\n",
    "from sklearn.decomposition import PCA\n",
    "import matplotlib.pyplot as plt\n",
    "from PIL import Image\n",
    "import matplotlib.pylab as plt\n",
    "%matplotlib inline"
   ]
  },
  {
   "cell_type": "markdown",
   "metadata": {},
   "source": [
    "### Visualizar uma foto"
   ]
  },
  {
   "cell_type": "code",
   "execution_count": 2,
   "metadata": {
    "collapsed": false
   },
   "outputs": [
    {
     "data": {
      "image/png": "[encoded data removed]",
      "text/plain": [
       "<PIL.PpmImagePlugin.PpmImageFile image mode=L size=92x112 at 0x7FDD506D8898>"
      ]
     },
     "execution_count": 2,
     "metadata": {},
     "output_type": "execute_result"
    }
   ],
   "source": [
    "Image.open(\"/home/sayuri/Documentos/FGV-Intro-Python/eigenfaces/s1/6.pgm\")"
   ]
  },
  {
   "cell_type": "code",
   "execution_count": 3,
   "metadata": {
    "collapsed": false
   },
   "outputs": [
    {
     "data": {
      "text/plain": [
       "(112, 92)"
      ]
     },
     "execution_count": 3,
     "metadata": {},
     "output_type": "execute_result"
    }
   ],
   "source": [
    "im = plt.imread(\"/home/sayuri/Documentos/FGV-Intro-Python/eigenfaces/s1/6.pgm\")\n",
    "im.shape # uma foto possui 112 linhas e 92 colunas"
   ]
  },
  {
   "cell_type": "markdown",
   "metadata": {},
   "source": [
    "### Pegar todas as fotos  "
   ]
  },
  {
   "cell_type": "markdown",
   "metadata": {},
   "source": [
    "#### Pegar 8 fotos do s1, 8 do s2 e assim por diante até o s40"
   ]
  },
  {
   "cell_type": "code",
   "execution_count": 4,
   "metadata": {
    "collapsed": true
   },
   "outputs": [],
   "source": [
    "Data = []\n",
    "for i in range(40):\n",
    "    for j in range(8):\n",
    "        Data.append([plt.imread((\"/home/sayuri/Documentos/FGV-Intro-Python/eigenfaces/s\"+str(i+1)+'/'+str(j+1)+'.pgm'))])"
   ]
  },
  {
   "cell_type": "markdown",
   "metadata": {},
   "source": [
    "#### Data de [0] a [7] é a primeira pessoa (S1) e assim por diante "
   ]
  },
  {
   "cell_type": "code",
   "execution_count": 5,
   "metadata": {
    "collapsed": false
   },
   "outputs": [
    {
     "data": {
      "text/plain": [
       "[array([[48, 49, 45, ..., 56, 56, 54],\n",
       "        [45, 52, 39, ..., 52, 50, 51],\n",
       "        [45, 50, 42, ..., 48, 53, 50],\n",
       "        ..., \n",
       "        [50, 48, 50, ..., 45, 46, 46],\n",
       "        [45, 54, 49, ..., 46, 47, 47],\n",
       "        [51, 51, 51, ..., 47, 46, 46]], dtype=uint8)]"
      ]
     },
     "execution_count": 5,
     "metadata": {},
     "output_type": "execute_result"
    }
   ],
   "source": [
    "Data[0]"
   ]
  },
  {
   "cell_type": "code",
   "execution_count": 6,
   "metadata": {
    "collapsed": false
   },
   "outputs": [
    {
     "data": {
      "text/plain": [
       "array([[48, 49, 45, ..., 56, 56, 54],\n",
       "       [45, 52, 39, ..., 52, 50, 51],\n",
       "       [45, 50, 42, ..., 48, 53, 50],\n",
       "       ..., \n",
       "       [50, 48, 50, ..., 45, 46, 46],\n",
       "       [45, 54, 49, ..., 46, 47, 47],\n",
       "       [51, 51, 51, ..., 47, 46, 46]], dtype=uint8)"
      ]
     },
     "execution_count": 6,
     "metadata": {},
     "output_type": "execute_result"
    }
   ],
   "source": [
    "plt.imread(\"/home/sayuri/Documentos/FGV-Intro-Python/eigenfaces/s1/1.pgm\")"
   ]
  },
  {
   "cell_type": "markdown",
   "metadata": {},
   "source": [
    "### Montar matriz geral"
   ]
  },
  {
   "cell_type": "code",
   "execution_count": 7,
   "metadata": {
    "collapsed": false
   },
   "outputs": [
    {
     "data": {
      "text/plain": [
       "array([48, 49, 45, ..., 47, 46, 46], dtype=uint8)"
      ]
     },
     "execution_count": 7,
     "metadata": {},
     "output_type": "execute_result"
    }
   ],
   "source": [
    "plt.concatenate(plt.concatenate(Data[0]))"
   ]
  },
  {
   "cell_type": "code",
   "execution_count": 8,
   "metadata": {
    "collapsed": false
   },
   "outputs": [
    {
     "data": {
      "text/plain": [
       "10304"
      ]
     },
     "execution_count": 8,
     "metadata": {},
     "output_type": "execute_result"
    }
   ],
   "source": [
    "len(plt.concatenate(plt.concatenate(Data[0])))"
   ]
  },
  {
   "cell_type": "code",
   "execution_count": 9,
   "metadata": {
    "collapsed": false
   },
   "outputs": [],
   "source": [
    "#112 linhas e 92 colunas -> 10304 linhas e 320 colunas na matriz final "
   ]
  },
  {
   "cell_type": "code",
   "execution_count": 10,
   "metadata": {
    "collapsed": false
   },
   "outputs": [],
   "source": [
    "matriz_geral=[]\n",
    "for i in range (320):\n",
    "    matriz_geral.append(plt.concatenate(plt.concatenate(Data[i])))"
   ]
  },
  {
   "cell_type": "markdown",
   "metadata": {},
   "source": [
    "### Fazer média para todas as 320 colunas (resulta em um vetor de 10304 linhas)"
   ]
  },
  {
   "cell_type": "code",
   "execution_count": 11,
   "metadata": {
    "collapsed": false
   },
   "outputs": [],
   "source": [
    "m=np.mean(matriz_geral,axis=0)"
   ]
  },
  {
   "cell_type": "code",
   "execution_count": 12,
   "metadata": {
    "collapsed": false
   },
   "outputs": [
    {
     "data": {
      "text/plain": [
       "(10304,)"
      ]
     },
     "execution_count": 12,
     "metadata": {},
     "output_type": "execute_result"
    }
   ],
   "source": [
    "m.shape"
   ]
  },
  {
   "cell_type": "markdown",
   "metadata": {},
   "source": [
    "### Pegar cada coluna e diminuir da media"
   ]
  },
  {
   "cell_type": "code",
   "execution_count": 13,
   "metadata": {
    "collapsed": false
   },
   "outputs": [],
   "source": [
    "matriz_menos_media = matriz_geral-m"
   ]
  },
  {
   "cell_type": "code",
   "execution_count": 14,
   "metadata": {
    "collapsed": false,
    "scrolled": true
   },
   "outputs": [
    {
     "data": {
      "text/plain": [
       "(320, 10304)"
      ]
     },
     "execution_count": 14,
     "metadata": {},
     "output_type": "execute_result"
    }
   ],
   "source": [
    "matriz_menos_media.shape"
   ]
  },
  {
   "cell_type": "markdown",
   "metadata": {},
   "source": [
    "### Fazer o PCA"
   ]
  },
  {
   "cell_type": "code",
   "execution_count": 15,
   "metadata": {
    "collapsed": true
   },
   "outputs": [],
   "source": [
    "pca = PCA(n_components=5) # num de componentes = 5"
   ]
  },
  {
   "cell_type": "code",
   "execution_count": 16,
   "metadata": {
    "collapsed": false
   },
   "outputs": [
    {
     "data": {
      "text/plain": [
       "PCA(copy=True, iterated_power='auto', n_components=5, random_state=None,\n",
       "  svd_solver='auto', tol=0.0, whiten=False)"
      ]
     },
     "execution_count": 16,
     "metadata": {},
     "output_type": "execute_result"
    }
   ],
   "source": [
    "pca.fit(matriz_menos_media)"
   ]
  },
  {
   "cell_type": "code",
   "execution_count": 17,
   "metadata": {
    "collapsed": false
   },
   "outputs": [
    {
     "name": "stdout",
     "output_type": "stream",
     "text": [
      "[ 0.18136292  0.12716988  0.06928365  0.05459802  0.0498744 ]\n"
     ]
    }
   ],
   "source": [
    "print(pca.explained_variance_ratio_)"
   ]
  },
  {
   "cell_type": "code",
   "execution_count": 18,
   "metadata": {
    "collapsed": false
   },
   "outputs": [
    {
     "data": {
      "text/plain": [
       "(5, 10304)"
      ]
     },
     "execution_count": 18,
     "metadata": {},
     "output_type": "execute_result"
    }
   ],
   "source": [
    "pca.components_.shape"
   ]
  },
  {
   "cell_type": "markdown",
   "metadata": {},
   "source": [
    "### Fazer uma imagem a partir de um PCA"
   ]
  },
  {
   "cell_type": "code",
   "execution_count": 19,
   "metadata": {
    "collapsed": true
   },
   "outputs": [],
   "source": [
    "x=pca.components_[0]"
   ]
  },
  {
   "cell_type": "code",
   "execution_count": 20,
   "metadata": {
    "collapsed": false
   },
   "outputs": [
    {
     "data": {
      "text/plain": [
       "array([-0.00381661, -0.00379321, -0.00388041, ..., -0.00604907,\n",
       "       -0.00565574, -0.00658394])"
      ]
     },
     "execution_count": 20,
     "metadata": {},
     "output_type": "execute_result"
    }
   ],
   "source": [
    "x"
   ]
  },
  {
   "cell_type": "code",
   "execution_count": 21,
   "metadata": {
    "collapsed": false
   },
   "outputs": [],
   "source": [
    "a=np.asmatrix(x)"
   ]
  },
  {
   "cell_type": "code",
   "execution_count": 22,
   "metadata": {
    "collapsed": false
   },
   "outputs": [],
   "source": [
    "a=np.reshape(a,(112,92))"
   ]
  },
  {
   "cell_type": "code",
   "execution_count": 23,
   "metadata": {
    "collapsed": false
   },
   "outputs": [
    {
     "data": {
      "text/plain": [
       "(112, 92)"
      ]
     },
     "execution_count": 23,
     "metadata": {},
     "output_type": "execute_result"
    }
   ],
   "source": [
    "a.shape"
   ]
  },
  {
   "cell_type": "code",
   "execution_count": 24,
   "metadata": {
    "collapsed": false,
    "scrolled": true
   },
   "outputs": [
    {
     "data": {
      "text/plain": [
       "<matplotlib.image.AxesImage at 0x7fdd16198e80>"
      ]
     },
     "execution_count": 24,
     "metadata": {},
     "output_type": "execute_result"
    },
    {
     "data": {
      "image/png": "[encoded data removed]",
      "text/plain": [
       "<matplotlib.figure.Figure at 0x7fdd17b5e780>"
      ]
     },
     "metadata": {},
     "output_type": "display_data"
    }
   ],
   "source": [
    "plt.imshow(a)"
   ]
  },
  {
   "cell_type": "markdown",
   "metadata": {},
   "source": [
    "### Montar matriz com 320 a, depois 320 b e assim por diante "
   ]
  },
  {
   "cell_type": "markdown",
   "metadata": {},
   "source": [
    "####  <span style=\"color:navy\">Imagem</span> =  <font color='maroon'>a</font> \\* <span style=\"color:teal\">primeira_componente</span> + <font color='maroon'>b</font> \\* <span style=\"color:teal\">segunda_componente</span> + ... + <font color='maroon'>e</font> \\* <span style=\"color:teal\">quinta_componente</span> "
   ]
  },
  {
   "cell_type": "markdown",
   "metadata": {},
   "source": [
    "#### Para achar o <font color='maroon'>a</font>, basta fazer produto interno da <span style=\"color:navy\">imagem</span> com a <span style=\"color:teal\">primeira componente</span>"
   ]
  },
  {
   "cell_type": "code",
   "execution_count": 25,
   "metadata": {
    "collapsed": false
   },
   "outputs": [],
   "source": [
    "prod_inter=[]\n",
    "for i in range(5):\n",
    "    for j in range(320):\n",
    "        x=matriz_geral[j]\n",
    "        y=pca.components_[i]\n",
    "        z=np.inner(x,y)\n",
    "        prod_inter.append(z)"
   ]
  },
  {
   "cell_type": "code",
   "execution_count": 26,
   "metadata": {
    "collapsed": false
   },
   "outputs": [
    {
     "data": {
      "text/plain": [
       "1600"
      ]
     },
     "execution_count": 26,
     "metadata": {},
     "output_type": "execute_result"
    }
   ],
   "source": [
    "len(prod_inter) #320*5"
   ]
  },
  {
   "cell_type": "markdown",
   "metadata": {},
   "source": [
    "### Teste para encontrar as letras da função"
   ]
  },
  {
   "cell_type": "code",
   "execution_count": 27,
   "metadata": {
    "collapsed": false
   },
   "outputs": [
    {
     "data": {
      "text/plain": [
       "8445.494136309866"
      ]
     },
     "execution_count": 27,
     "metadata": {},
     "output_type": "execute_result"
    }
   ],
   "source": [
    "np.inner(matriz_geral[0],pca.components_[0]) # a"
   ]
  },
  {
   "cell_type": "code",
   "execution_count": 28,
   "metadata": {
    "collapsed": false
   },
   "outputs": [
    {
     "data": {
      "text/plain": [
       "-8995.7231645202664"
      ]
     },
     "execution_count": 28,
     "metadata": {},
     "output_type": "execute_result"
    }
   ],
   "source": [
    "np.inner(matriz_geral[0],pca.components_[1]) # b"
   ]
  },
  {
   "cell_type": "code",
   "execution_count": 29,
   "metadata": {
    "collapsed": false
   },
   "outputs": [
    {
     "data": {
      "text/plain": [
       "-2514.3373421047268"
      ]
     },
     "execution_count": 29,
     "metadata": {},
     "output_type": "execute_result"
    }
   ],
   "source": [
    "np.inner(matriz_geral[0],pca.components_[2]) # c"
   ]
  },
  {
   "cell_type": "code",
   "execution_count": 30,
   "metadata": {
    "collapsed": false
   },
   "outputs": [
    {
     "data": {
      "text/plain": [
       "105.1753486866275"
      ]
     },
     "execution_count": 30,
     "metadata": {},
     "output_type": "execute_result"
    }
   ],
   "source": [
    "np.inner(matriz_geral[0],pca.components_[3]) # d"
   ]
  },
  {
   "cell_type": "code",
   "execution_count": 31,
   "metadata": {
    "collapsed": false
   },
   "outputs": [
    {
     "data": {
      "text/plain": [
       "-3159.1143668952773"
      ]
     },
     "execution_count": 31,
     "metadata": {},
     "output_type": "execute_result"
    }
   ],
   "source": [
    "np.inner(matriz_geral[0],pca.components_[4]) # e"
   ]
  },
  {
   "cell_type": "markdown",
   "metadata": {},
   "source": [
    "### Arrumar em uma matriz onde primeira coluna = a, segunda =b ..."
   ]
  },
  {
   "cell_type": "code",
   "execution_count": 32,
   "metadata": {
    "collapsed": true
   },
   "outputs": [],
   "source": [
    "a = prod_inter[0:320]\n",
    "b = prod_inter[320:640]\n",
    "c = prod_inter[640:960]\n",
    "d = prod_inter[960:1280]\n",
    "e = prod_inter[1280:1600]"
   ]
  },
  {
   "cell_type": "code",
   "execution_count": 33,
   "metadata": {
    "collapsed": false
   },
   "outputs": [],
   "source": [
    "data_nova = {'a':a,'b':b,'c':c,'d':d,'e':e} # tem que fazer transposta "
   ]
  },
  {
   "cell_type": "markdown",
   "metadata": {},
   "source": [
    "#### pd.DataFrame"
   ]
  },
  {
   "cell_type": "code",
   "execution_count": 34,
   "metadata": {
    "collapsed": false
   },
   "outputs": [
    {
     "data": {
      "text/html": [
       "<div>\n",
       "<table border=\"1\" class=\"dataframe\">\n",
       "  <thead>\n",
       "    <tr style=\"text-align: right;\">\n",
       "      <th></th>\n",
       "      <th>a</th>\n",
       "      <th>b</th>\n",
       "      <th>c</th>\n",
       "      <th>d</th>\n",
       "      <th>e</th>\n",
       "    </tr>\n",
       "  </thead>\n",
       "  <tbody>\n",
       "    <tr>\n",
       "      <th>0</th>\n",
       "      <td>8445.494136</td>\n",
       "      <td>-8995.723165</td>\n",
       "      <td>-2514.337342</td>\n",
       "      <td>105.175349</td>\n",
       "      <td>-3159.114367</td>\n",
       "    </tr>\n",
       "    <tr>\n",
       "      <th>1</th>\n",
       "      <td>9982.412619</td>\n",
       "      <td>-8813.266507</td>\n",
       "      <td>-421.925021</td>\n",
       "      <td>-1073.791893</td>\n",
       "      <td>-5155.909217</td>\n",
       "    </tr>\n",
       "    <tr>\n",
       "      <th>2</th>\n",
       "      <td>9674.090757</td>\n",
       "      <td>-8452.533205</td>\n",
       "      <td>-1715.637745</td>\n",
       "      <td>328.363912</td>\n",
       "      <td>-3468.639442</td>\n",
       "    </tr>\n",
       "    <tr>\n",
       "      <th>3</th>\n",
       "      <td>10137.439871</td>\n",
       "      <td>-9152.249570</td>\n",
       "      <td>-693.163495</td>\n",
       "      <td>-2535.909326</td>\n",
       "      <td>-2580.488637</td>\n",
       "    </tr>\n",
       "    <tr>\n",
       "      <th>4</th>\n",
       "      <td>10581.363279</td>\n",
       "      <td>-8884.084843</td>\n",
       "      <td>-969.242991</td>\n",
       "      <td>-1947.921261</td>\n",
       "      <td>-2763.226319</td>\n",
       "    </tr>\n",
       "    <tr>\n",
       "      <th>5</th>\n",
       "      <td>9472.868933</td>\n",
       "      <td>-9095.334581</td>\n",
       "      <td>-902.697031</td>\n",
       "      <td>-1517.824170</td>\n",
       "      <td>-4251.844837</td>\n",
       "    </tr>\n",
       "    <tr>\n",
       "      <th>6</th>\n",
       "      <td>9346.512263</td>\n",
       "      <td>-8741.423128</td>\n",
       "      <td>-1919.225690</td>\n",
       "      <td>-674.153378</td>\n",
       "      <td>-3573.371604</td>\n",
       "    </tr>\n",
       "    <tr>\n",
       "      <th>7</th>\n",
       "      <td>9757.115326</td>\n",
       "      <td>-8428.777563</td>\n",
       "      <td>-1794.399129</td>\n",
       "      <td>-1673.150843</td>\n",
       "      <td>-1236.784403</td>\n",
       "    </tr>\n",
       "    <tr>\n",
       "      <th>8</th>\n",
       "      <td>7990.401037</td>\n",
       "      <td>-7099.532010</td>\n",
       "      <td>-2047.911154</td>\n",
       "      <td>-298.560589</td>\n",
       "      <td>-2602.266623</td>\n",
       "    </tr>\n",
       "    <tr>\n",
       "      <th>9</th>\n",
       "      <td>7865.724252</td>\n",
       "      <td>-7208.821631</td>\n",
       "      <td>-2266.866885</td>\n",
       "      <td>371.902920</td>\n",
       "      <td>-3037.236927</td>\n",
       "    </tr>\n",
       "    <tr>\n",
       "      <th>10</th>\n",
       "      <td>8143.741325</td>\n",
       "      <td>-7075.850072</td>\n",
       "      <td>-1966.563955</td>\n",
       "      <td>150.559271</td>\n",
       "      <td>-2652.486591</td>\n",
       "    </tr>\n",
       "    <tr>\n",
       "      <th>11</th>\n",
       "      <td>7837.097465</td>\n",
       "      <td>-7040.487530</td>\n",
       "      <td>-2212.338175</td>\n",
       "      <td>308.508110</td>\n",
       "      <td>-2989.628977</td>\n",
       "    </tr>\n",
       "    <tr>\n",
       "      <th>12</th>\n",
       "      <td>7998.966386</td>\n",
       "      <td>-7314.819619</td>\n",
       "      <td>-2071.932512</td>\n",
       "      <td>-85.047329</td>\n",
       "      <td>-3247.365467</td>\n",
       "    </tr>\n",
       "    <tr>\n",
       "      <th>13</th>\n",
       "      <td>7565.501803</td>\n",
       "      <td>-7169.759962</td>\n",
       "      <td>-2173.835942</td>\n",
       "      <td>564.346961</td>\n",
       "      <td>-3502.846071</td>\n",
       "    </tr>\n",
       "    <tr>\n",
       "      <th>14</th>\n",
       "      <td>8522.227155</td>\n",
       "      <td>-6951.163942</td>\n",
       "      <td>-1369.661890</td>\n",
       "      <td>-231.679339</td>\n",
       "      <td>-2666.684269</td>\n",
       "    </tr>\n",
       "    <tr>\n",
       "      <th>15</th>\n",
       "      <td>8234.462527</td>\n",
       "      <td>-7006.014214</td>\n",
       "      <td>-1817.698105</td>\n",
       "      <td>6.395195</td>\n",
       "      <td>-2714.380644</td>\n",
       "    </tr>\n",
       "    <tr>\n",
       "      <th>16</th>\n",
       "      <td>7106.530061</td>\n",
       "      <td>-8170.987224</td>\n",
       "      <td>47.568017</td>\n",
       "      <td>599.769415</td>\n",
       "      <td>-1657.531637</td>\n",
       "    </tr>\n",
       "    <tr>\n",
       "      <th>17</th>\n",
       "      <td>6946.251797</td>\n",
       "      <td>-8339.082474</td>\n",
       "      <td>105.002131</td>\n",
       "      <td>-156.684514</td>\n",
       "      <td>-1386.425585</td>\n",
       "    </tr>\n",
       "    <tr>\n",
       "      <th>18</th>\n",
       "      <td>7247.214710</td>\n",
       "      <td>-8353.723595</td>\n",
       "      <td>-97.194675</td>\n",
       "      <td>-111.586315</td>\n",
       "      <td>-1144.174453</td>\n",
       "    </tr>\n",
       "    <tr>\n",
       "      <th>19</th>\n",
       "      <td>8041.930754</td>\n",
       "      <td>-7605.320107</td>\n",
       "      <td>251.477311</td>\n",
       "      <td>1348.610518</td>\n",
       "      <td>-2495.421941</td>\n",
       "    </tr>\n",
       "    <tr>\n",
       "      <th>20</th>\n",
       "      <td>8247.793040</td>\n",
       "      <td>-7310.645667</td>\n",
       "      <td>541.723638</td>\n",
       "      <td>1378.332515</td>\n",
       "      <td>-2958.210232</td>\n",
       "    </tr>\n",
       "    <tr>\n",
       "      <th>21</th>\n",
       "      <td>7132.946600</td>\n",
       "      <td>-9173.744715</td>\n",
       "      <td>-658.157777</td>\n",
       "      <td>1061.557639</td>\n",
       "      <td>-2180.625750</td>\n",
       "    </tr>\n",
       "    <tr>\n",
       "      <th>22</th>\n",
       "      <td>7109.986652</td>\n",
       "      <td>-8923.982917</td>\n",
       "      <td>-264.381498</td>\n",
       "      <td>1542.422969</td>\n",
       "      <td>-2230.551701</td>\n",
       "    </tr>\n",
       "    <tr>\n",
       "      <th>23</th>\n",
       "      <td>7343.233931</td>\n",
       "      <td>-8874.226752</td>\n",
       "      <td>-393.764502</td>\n",
       "      <td>1234.423665</td>\n",
       "      <td>-1920.774901</td>\n",
       "    </tr>\n",
       "    <tr>\n",
       "      <th>24</th>\n",
       "      <td>6817.097318</td>\n",
       "      <td>-8354.486159</td>\n",
       "      <td>-223.679279</td>\n",
       "      <td>1285.828682</td>\n",
       "      <td>-2696.339527</td>\n",
       "    </tr>\n",
       "    <tr>\n",
       "      <th>25</th>\n",
       "      <td>7011.214903</td>\n",
       "      <td>-8075.283414</td>\n",
       "      <td>-622.018210</td>\n",
       "      <td>421.171380</td>\n",
       "      <td>-2003.568137</td>\n",
       "    </tr>\n",
       "    <tr>\n",
       "      <th>26</th>\n",
       "      <td>7249.831692</td>\n",
       "      <td>-7901.726317</td>\n",
       "      <td>-251.219624</td>\n",
       "      <td>1343.708757</td>\n",
       "      <td>-2795.690970</td>\n",
       "    </tr>\n",
       "    <tr>\n",
       "      <th>27</th>\n",
       "      <td>7251.124420</td>\n",
       "      <td>-9135.879359</td>\n",
       "      <td>-928.959846</td>\n",
       "      <td>236.309004</td>\n",
       "      <td>-1778.239901</td>\n",
       "    </tr>\n",
       "    <tr>\n",
       "      <th>28</th>\n",
       "      <td>7323.336593</td>\n",
       "      <td>-9091.375316</td>\n",
       "      <td>-1062.135831</td>\n",
       "      <td>-364.035864</td>\n",
       "      <td>-1726.549802</td>\n",
       "    </tr>\n",
       "    <tr>\n",
       "      <th>29</th>\n",
       "      <td>8162.659953</td>\n",
       "      <td>-8596.639554</td>\n",
       "      <td>-964.498181</td>\n",
       "      <td>614.600892</td>\n",
       "      <td>-2881.186438</td>\n",
       "    </tr>\n",
       "    <tr>\n",
       "      <th>...</th>\n",
       "      <td>...</td>\n",
       "      <td>...</td>\n",
       "      <td>...</td>\n",
       "      <td>...</td>\n",
       "      <td>...</td>\n",
       "    </tr>\n",
       "    <tr>\n",
       "      <th>290</th>\n",
       "      <td>8965.642111</td>\n",
       "      <td>-7042.369565</td>\n",
       "      <td>1177.564004</td>\n",
       "      <td>-54.358871</td>\n",
       "      <td>-606.211971</td>\n",
       "    </tr>\n",
       "    <tr>\n",
       "      <th>291</th>\n",
       "      <td>8888.538538</td>\n",
       "      <td>-5051.128358</td>\n",
       "      <td>-141.227258</td>\n",
       "      <td>131.984750</td>\n",
       "      <td>-2648.517893</td>\n",
       "    </tr>\n",
       "    <tr>\n",
       "      <th>292</th>\n",
       "      <td>8335.301776</td>\n",
       "      <td>-5025.431911</td>\n",
       "      <td>-289.902869</td>\n",
       "      <td>362.226841</td>\n",
       "      <td>-1790.082572</td>\n",
       "    </tr>\n",
       "    <tr>\n",
       "      <th>293</th>\n",
       "      <td>8647.834073</td>\n",
       "      <td>-5126.794877</td>\n",
       "      <td>-332.379962</td>\n",
       "      <td>-65.456595</td>\n",
       "      <td>-1810.633240</td>\n",
       "    </tr>\n",
       "    <tr>\n",
       "      <th>294</th>\n",
       "      <td>8788.030083</td>\n",
       "      <td>-6998.862502</td>\n",
       "      <td>985.375847</td>\n",
       "      <td>-302.682024</td>\n",
       "      <td>-401.039173</td>\n",
       "    </tr>\n",
       "    <tr>\n",
       "      <th>295</th>\n",
       "      <td>8217.918845</td>\n",
       "      <td>-5360.997204</td>\n",
       "      <td>-447.236045</td>\n",
       "      <td>393.690667</td>\n",
       "      <td>-1829.583448</td>\n",
       "    </tr>\n",
       "    <tr>\n",
       "      <th>296</th>\n",
       "      <td>5246.617876</td>\n",
       "      <td>-8885.996926</td>\n",
       "      <td>-49.746069</td>\n",
       "      <td>1645.570380</td>\n",
       "      <td>-3034.244407</td>\n",
       "    </tr>\n",
       "    <tr>\n",
       "      <th>297</th>\n",
       "      <td>5210.438967</td>\n",
       "      <td>-8688.772247</td>\n",
       "      <td>-143.894603</td>\n",
       "      <td>1252.017509</td>\n",
       "      <td>-2678.227246</td>\n",
       "    </tr>\n",
       "    <tr>\n",
       "      <th>298</th>\n",
       "      <td>5467.924120</td>\n",
       "      <td>-8065.963528</td>\n",
       "      <td>135.464748</td>\n",
       "      <td>1949.393063</td>\n",
       "      <td>-2944.186374</td>\n",
       "    </tr>\n",
       "    <tr>\n",
       "      <th>299</th>\n",
       "      <td>5822.976810</td>\n",
       "      <td>-8915.491839</td>\n",
       "      <td>-663.809643</td>\n",
       "      <td>1042.494427</td>\n",
       "      <td>-1763.110909</td>\n",
       "    </tr>\n",
       "    <tr>\n",
       "      <th>300</th>\n",
       "      <td>5189.224463</td>\n",
       "      <td>-8462.434339</td>\n",
       "      <td>-141.097666</td>\n",
       "      <td>1404.969208</td>\n",
       "      <td>-2661.953744</td>\n",
       "    </tr>\n",
       "    <tr>\n",
       "      <th>301</th>\n",
       "      <td>5008.056304</td>\n",
       "      <td>-9012.717129</td>\n",
       "      <td>87.993790</td>\n",
       "      <td>1454.194074</td>\n",
       "      <td>-3419.948488</td>\n",
       "    </tr>\n",
       "    <tr>\n",
       "      <th>302</th>\n",
       "      <td>5366.845384</td>\n",
       "      <td>-8539.711562</td>\n",
       "      <td>-179.863205</td>\n",
       "      <td>1357.166812</td>\n",
       "      <td>-2297.482521</td>\n",
       "    </tr>\n",
       "    <tr>\n",
       "      <th>303</th>\n",
       "      <td>5130.614580</td>\n",
       "      <td>-9289.289902</td>\n",
       "      <td>-379.254188</td>\n",
       "      <td>769.969388</td>\n",
       "      <td>-2386.599367</td>\n",
       "    </tr>\n",
       "    <tr>\n",
       "      <th>304</th>\n",
       "      <td>4980.525207</td>\n",
       "      <td>-4841.833628</td>\n",
       "      <td>232.962651</td>\n",
       "      <td>244.481880</td>\n",
       "      <td>-2526.748797</td>\n",
       "    </tr>\n",
       "    <tr>\n",
       "      <th>305</th>\n",
       "      <td>4674.083577</td>\n",
       "      <td>-4723.065712</td>\n",
       "      <td>236.551127</td>\n",
       "      <td>-64.548788</td>\n",
       "      <td>-1735.693961</td>\n",
       "    </tr>\n",
       "    <tr>\n",
       "      <th>306</th>\n",
       "      <td>4162.375025</td>\n",
       "      <td>-4594.733384</td>\n",
       "      <td>183.940643</td>\n",
       "      <td>413.745179</td>\n",
       "      <td>-2916.905895</td>\n",
       "    </tr>\n",
       "    <tr>\n",
       "      <th>307</th>\n",
       "      <td>4430.873704</td>\n",
       "      <td>-4427.825268</td>\n",
       "      <td>-4.029121</td>\n",
       "      <td>550.881191</td>\n",
       "      <td>-2770.558040</td>\n",
       "    </tr>\n",
       "    <tr>\n",
       "      <th>308</th>\n",
       "      <td>4538.246195</td>\n",
       "      <td>-5425.622204</td>\n",
       "      <td>288.262669</td>\n",
       "      <td>595.528070</td>\n",
       "      <td>-3003.749789</td>\n",
       "    </tr>\n",
       "    <tr>\n",
       "      <th>309</th>\n",
       "      <td>4536.217957</td>\n",
       "      <td>-4768.110565</td>\n",
       "      <td>261.830261</td>\n",
       "      <td>-37.666440</td>\n",
       "      <td>-3728.378618</td>\n",
       "    </tr>\n",
       "    <tr>\n",
       "      <th>310</th>\n",
       "      <td>4442.124961</td>\n",
       "      <td>-6203.413699</td>\n",
       "      <td>507.182629</td>\n",
       "      <td>115.241489</td>\n",
       "      <td>-2329.278283</td>\n",
       "    </tr>\n",
       "    <tr>\n",
       "      <th>311</th>\n",
       "      <td>4659.984333</td>\n",
       "      <td>-6256.342103</td>\n",
       "      <td>481.412237</td>\n",
       "      <td>-190.390765</td>\n",
       "      <td>-2113.165005</td>\n",
       "    </tr>\n",
       "    <tr>\n",
       "      <th>312</th>\n",
       "      <td>7675.607330</td>\n",
       "      <td>-8729.964524</td>\n",
       "      <td>1047.255638</td>\n",
       "      <td>-413.438568</td>\n",
       "      <td>-1925.464972</td>\n",
       "    </tr>\n",
       "    <tr>\n",
       "      <th>313</th>\n",
       "      <td>7869.393861</td>\n",
       "      <td>-9355.527446</td>\n",
       "      <td>305.826329</td>\n",
       "      <td>-539.666808</td>\n",
       "      <td>-1652.401948</td>\n",
       "    </tr>\n",
       "    <tr>\n",
       "      <th>314</th>\n",
       "      <td>7779.168252</td>\n",
       "      <td>-9585.857584</td>\n",
       "      <td>470.401982</td>\n",
       "      <td>-1022.671663</td>\n",
       "      <td>-1527.442121</td>\n",
       "    </tr>\n",
       "    <tr>\n",
       "      <th>315</th>\n",
       "      <td>7673.610435</td>\n",
       "      <td>-7796.423957</td>\n",
       "      <td>1553.238364</td>\n",
       "      <td>1259.680382</td>\n",
       "      <td>-3669.536430</td>\n",
       "    </tr>\n",
       "    <tr>\n",
       "      <th>316</th>\n",
       "      <td>8034.871618</td>\n",
       "      <td>-9425.233116</td>\n",
       "      <td>374.176257</td>\n",
       "      <td>499.486703</td>\n",
       "      <td>-2615.599635</td>\n",
       "    </tr>\n",
       "    <tr>\n",
       "      <th>317</th>\n",
       "      <td>7547.578936</td>\n",
       "      <td>-8818.245779</td>\n",
       "      <td>1005.332327</td>\n",
       "      <td>423.498865</td>\n",
       "      <td>-2684.313773</td>\n",
       "    </tr>\n",
       "    <tr>\n",
       "      <th>318</th>\n",
       "      <td>8020.020293</td>\n",
       "      <td>-9110.196360</td>\n",
       "      <td>476.403589</td>\n",
       "      <td>651.677991</td>\n",
       "      <td>-3029.672130</td>\n",
       "    </tr>\n",
       "    <tr>\n",
       "      <th>319</th>\n",
       "      <td>7737.693059</td>\n",
       "      <td>-8766.618972</td>\n",
       "      <td>1011.118541</td>\n",
       "      <td>185.098491</td>\n",
       "      <td>-2163.815397</td>\n",
       "    </tr>\n",
       "  </tbody>\n",
       "</table>\n",
       "<p>320 rows × 5 columns</p>\n",
       "</div>"
      ],
      "text/plain": [
       "                a            b            c            d            e\n",
       "0     8445.494136 -8995.723165 -2514.337342   105.175349 -3159.114367\n",
       "1     9982.412619 -8813.266507  -421.925021 -1073.791893 -5155.909217\n",
       "2     9674.090757 -8452.533205 -1715.637745   328.363912 -3468.639442\n",
       "3    10137.439871 -9152.249570  -693.163495 -2535.909326 -2580.488637\n",
       "4    10581.363279 -8884.084843  -969.242991 -1947.921261 -2763.226319\n",
       "5     9472.868933 -9095.334581  -902.697031 -1517.824170 -4251.844837\n",
       "6     9346.512263 -8741.423128 -1919.225690  -674.153378 -3573.371604\n",
       "7     9757.115326 -8428.777563 -1794.399129 -1673.150843 -1236.784403\n",
       "8     7990.401037 -7099.532010 -2047.911154  -298.560589 -2602.266623\n",
       "9     7865.724252 -7208.821631 -2266.866885   371.902920 -3037.236927\n",
       "10    8143.741325 -7075.850072 -1966.563955   150.559271 -2652.486591\n",
       "11    7837.097465 -7040.487530 -2212.338175   308.508110 -2989.628977\n",
       "12    7998.966386 -7314.819619 -2071.932512   -85.047329 -3247.365467\n",
       "13    7565.501803 -7169.759962 -2173.835942   564.346961 -3502.846071\n",
       "14    8522.227155 -6951.163942 -1369.661890  -231.679339 -2666.684269\n",
       "15    8234.462527 -7006.014214 -1817.698105     6.395195 -2714.380644\n",
       "16    7106.530061 -8170.987224    47.568017   599.769415 -1657.531637\n",
       "17    6946.251797 -8339.082474   105.002131  -156.684514 -1386.425585\n",
       "18    7247.214710 -8353.723595   -97.194675  -111.586315 -1144.174453\n",
       "19    8041.930754 -7605.320107   251.477311  1348.610518 -2495.421941\n",
       "20    8247.793040 -7310.645667   541.723638  1378.332515 -2958.210232\n",
       "21    7132.946600 -9173.744715  -658.157777  1061.557639 -2180.625750\n",
       "22    7109.986652 -8923.982917  -264.381498  1542.422969 -2230.551701\n",
       "23    7343.233931 -8874.226752  -393.764502  1234.423665 -1920.774901\n",
       "24    6817.097318 -8354.486159  -223.679279  1285.828682 -2696.339527\n",
       "25    7011.214903 -8075.283414  -622.018210   421.171380 -2003.568137\n",
       "26    7249.831692 -7901.726317  -251.219624  1343.708757 -2795.690970\n",
       "27    7251.124420 -9135.879359  -928.959846   236.309004 -1778.239901\n",
       "28    7323.336593 -9091.375316 -1062.135831  -364.035864 -1726.549802\n",
       "29    8162.659953 -8596.639554  -964.498181   614.600892 -2881.186438\n",
       "..            ...          ...          ...          ...          ...\n",
       "290   8965.642111 -7042.369565  1177.564004   -54.358871  -606.211971\n",
       "291   8888.538538 -5051.128358  -141.227258   131.984750 -2648.517893\n",
       "292   8335.301776 -5025.431911  -289.902869   362.226841 -1790.082572\n",
       "293   8647.834073 -5126.794877  -332.379962   -65.456595 -1810.633240\n",
       "294   8788.030083 -6998.862502   985.375847  -302.682024  -401.039173\n",
       "295   8217.918845 -5360.997204  -447.236045   393.690667 -1829.583448\n",
       "296   5246.617876 -8885.996926   -49.746069  1645.570380 -3034.244407\n",
       "297   5210.438967 -8688.772247  -143.894603  1252.017509 -2678.227246\n",
       "298   5467.924120 -8065.963528   135.464748  1949.393063 -2944.186374\n",
       "299   5822.976810 -8915.491839  -663.809643  1042.494427 -1763.110909\n",
       "300   5189.224463 -8462.434339  -141.097666  1404.969208 -2661.953744\n",
       "301   5008.056304 -9012.717129    87.993790  1454.194074 -3419.948488\n",
       "302   5366.845384 -8539.711562  -179.863205  1357.166812 -2297.482521\n",
       "303   5130.614580 -9289.289902  -379.254188   769.969388 -2386.599367\n",
       "304   4980.525207 -4841.833628   232.962651   244.481880 -2526.748797\n",
       "305   4674.083577 -4723.065712   236.551127   -64.548788 -1735.693961\n",
       "306   4162.375025 -4594.733384   183.940643   413.745179 -2916.905895\n",
       "307   4430.873704 -4427.825268    -4.029121   550.881191 -2770.558040\n",
       "308   4538.246195 -5425.622204   288.262669   595.528070 -3003.749789\n",
       "309   4536.217957 -4768.110565   261.830261   -37.666440 -3728.378618\n",
       "310   4442.124961 -6203.413699   507.182629   115.241489 -2329.278283\n",
       "311   4659.984333 -6256.342103   481.412237  -190.390765 -2113.165005\n",
       "312   7675.607330 -8729.964524  1047.255638  -413.438568 -1925.464972\n",
       "313   7869.393861 -9355.527446   305.826329  -539.666808 -1652.401948\n",
       "314   7779.168252 -9585.857584   470.401982 -1022.671663 -1527.442121\n",
       "315   7673.610435 -7796.423957  1553.238364  1259.680382 -3669.536430\n",
       "316   8034.871618 -9425.233116   374.176257   499.486703 -2615.599635\n",
       "317   7547.578936 -8818.245779  1005.332327   423.498865 -2684.313773\n",
       "318   8020.020293 -9110.196360   476.403589   651.677991 -3029.672130\n",
       "319   7737.693059 -8766.618972  1011.118541   185.098491 -2163.815397\n",
       "\n",
       "[320 rows x 5 columns]"
      ]
     },
     "execution_count": 34,
     "metadata": {},
     "output_type": "execute_result"
    }
   ],
   "source": [
    "frame = pd.DataFrame(data_nova)\n",
    "frame"
   ]
  },
  {
   "cell_type": "markdown",
   "metadata": {},
   "source": [
    "### Criando label (inserir uma coluna)"
   ]
  },
  {
   "cell_type": "code",
   "execution_count": 35,
   "metadata": {
    "collapsed": true
   },
   "outputs": [],
   "source": [
    "labels = []\n",
    "for i in range(40):\n",
    "    for _ in range(8):\n",
    "        labels.append(i)"
   ]
  },
  {
   "cell_type": "code",
   "execution_count": 36,
   "metadata": {
    "collapsed": false
   },
   "outputs": [
    {
     "data": {
      "text/html": [
       "<div>\n",
       "<table border=\"1\" class=\"dataframe\">\n",
       "  <thead>\n",
       "    <tr style=\"text-align: right;\">\n",
       "      <th></th>\n",
       "      <th>a</th>\n",
       "      <th>b</th>\n",
       "      <th>c</th>\n",
       "      <th>d</th>\n",
       "      <th>e</th>\n",
       "      <th>labels</th>\n",
       "    </tr>\n",
       "  </thead>\n",
       "  <tbody>\n",
       "    <tr>\n",
       "      <th>0</th>\n",
       "      <td>8445.494136</td>\n",
       "      <td>-8995.723165</td>\n",
       "      <td>-2514.337342</td>\n",
       "      <td>105.175349</td>\n",
       "      <td>-3159.114367</td>\n",
       "      <td>0</td>\n",
       "    </tr>\n",
       "    <tr>\n",
       "      <th>1</th>\n",
       "      <td>9982.412619</td>\n",
       "      <td>-8813.266507</td>\n",
       "      <td>-421.925021</td>\n",
       "      <td>-1073.791893</td>\n",
       "      <td>-5155.909217</td>\n",
       "      <td>0</td>\n",
       "    </tr>\n",
       "    <tr>\n",
       "      <th>2</th>\n",
       "      <td>9674.090757</td>\n",
       "      <td>-8452.533205</td>\n",
       "      <td>-1715.637745</td>\n",
       "      <td>328.363912</td>\n",
       "      <td>-3468.639442</td>\n",
       "      <td>0</td>\n",
       "    </tr>\n",
       "    <tr>\n",
       "      <th>3</th>\n",
       "      <td>10137.439871</td>\n",
       "      <td>-9152.249570</td>\n",
       "      <td>-693.163495</td>\n",
       "      <td>-2535.909326</td>\n",
       "      <td>-2580.488637</td>\n",
       "      <td>0</td>\n",
       "    </tr>\n",
       "    <tr>\n",
       "      <th>4</th>\n",
       "      <td>10581.363279</td>\n",
       "      <td>-8884.084843</td>\n",
       "      <td>-969.242991</td>\n",
       "      <td>-1947.921261</td>\n",
       "      <td>-2763.226319</td>\n",
       "      <td>0</td>\n",
       "    </tr>\n",
       "    <tr>\n",
       "      <th>5</th>\n",
       "      <td>9472.868933</td>\n",
       "      <td>-9095.334581</td>\n",
       "      <td>-902.697031</td>\n",
       "      <td>-1517.824170</td>\n",
       "      <td>-4251.844837</td>\n",
       "      <td>0</td>\n",
       "    </tr>\n",
       "    <tr>\n",
       "      <th>6</th>\n",
       "      <td>9346.512263</td>\n",
       "      <td>-8741.423128</td>\n",
       "      <td>-1919.225690</td>\n",
       "      <td>-674.153378</td>\n",
       "      <td>-3573.371604</td>\n",
       "      <td>0</td>\n",
       "    </tr>\n",
       "    <tr>\n",
       "      <th>7</th>\n",
       "      <td>9757.115326</td>\n",
       "      <td>-8428.777563</td>\n",
       "      <td>-1794.399129</td>\n",
       "      <td>-1673.150843</td>\n",
       "      <td>-1236.784403</td>\n",
       "      <td>0</td>\n",
       "    </tr>\n",
       "    <tr>\n",
       "      <th>8</th>\n",
       "      <td>7990.401037</td>\n",
       "      <td>-7099.532010</td>\n",
       "      <td>-2047.911154</td>\n",
       "      <td>-298.560589</td>\n",
       "      <td>-2602.266623</td>\n",
       "      <td>1</td>\n",
       "    </tr>\n",
       "    <tr>\n",
       "      <th>9</th>\n",
       "      <td>7865.724252</td>\n",
       "      <td>-7208.821631</td>\n",
       "      <td>-2266.866885</td>\n",
       "      <td>371.902920</td>\n",
       "      <td>-3037.236927</td>\n",
       "      <td>1</td>\n",
       "    </tr>\n",
       "    <tr>\n",
       "      <th>10</th>\n",
       "      <td>8143.741325</td>\n",
       "      <td>-7075.850072</td>\n",
       "      <td>-1966.563955</td>\n",
       "      <td>150.559271</td>\n",
       "      <td>-2652.486591</td>\n",
       "      <td>1</td>\n",
       "    </tr>\n",
       "    <tr>\n",
       "      <th>11</th>\n",
       "      <td>7837.097465</td>\n",
       "      <td>-7040.487530</td>\n",
       "      <td>-2212.338175</td>\n",
       "      <td>308.508110</td>\n",
       "      <td>-2989.628977</td>\n",
       "      <td>1</td>\n",
       "    </tr>\n",
       "    <tr>\n",
       "      <th>12</th>\n",
       "      <td>7998.966386</td>\n",
       "      <td>-7314.819619</td>\n",
       "      <td>-2071.932512</td>\n",
       "      <td>-85.047329</td>\n",
       "      <td>-3247.365467</td>\n",
       "      <td>1</td>\n",
       "    </tr>\n",
       "    <tr>\n",
       "      <th>13</th>\n",
       "      <td>7565.501803</td>\n",
       "      <td>-7169.759962</td>\n",
       "      <td>-2173.835942</td>\n",
       "      <td>564.346961</td>\n",
       "      <td>-3502.846071</td>\n",
       "      <td>1</td>\n",
       "    </tr>\n",
       "    <tr>\n",
       "      <th>14</th>\n",
       "      <td>8522.227155</td>\n",
       "      <td>-6951.163942</td>\n",
       "      <td>-1369.661890</td>\n",
       "      <td>-231.679339</td>\n",
       "      <td>-2666.684269</td>\n",
       "      <td>1</td>\n",
       "    </tr>\n",
       "    <tr>\n",
       "      <th>15</th>\n",
       "      <td>8234.462527</td>\n",
       "      <td>-7006.014214</td>\n",
       "      <td>-1817.698105</td>\n",
       "      <td>6.395195</td>\n",
       "      <td>-2714.380644</td>\n",
       "      <td>1</td>\n",
       "    </tr>\n",
       "    <tr>\n",
       "      <th>16</th>\n",
       "      <td>7106.530061</td>\n",
       "      <td>-8170.987224</td>\n",
       "      <td>47.568017</td>\n",
       "      <td>599.769415</td>\n",
       "      <td>-1657.531637</td>\n",
       "      <td>2</td>\n",
       "    </tr>\n",
       "    <tr>\n",
       "      <th>17</th>\n",
       "      <td>6946.251797</td>\n",
       "      <td>-8339.082474</td>\n",
       "      <td>105.002131</td>\n",
       "      <td>-156.684514</td>\n",
       "      <td>-1386.425585</td>\n",
       "      <td>2</td>\n",
       "    </tr>\n",
       "    <tr>\n",
       "      <th>18</th>\n",
       "      <td>7247.214710</td>\n",
       "      <td>-8353.723595</td>\n",
       "      <td>-97.194675</td>\n",
       "      <td>-111.586315</td>\n",
       "      <td>-1144.174453</td>\n",
       "      <td>2</td>\n",
       "    </tr>\n",
       "    <tr>\n",
       "      <th>19</th>\n",
       "      <td>8041.930754</td>\n",
       "      <td>-7605.320107</td>\n",
       "      <td>251.477311</td>\n",
       "      <td>1348.610518</td>\n",
       "      <td>-2495.421941</td>\n",
       "      <td>2</td>\n",
       "    </tr>\n",
       "    <tr>\n",
       "      <th>20</th>\n",
       "      <td>8247.793040</td>\n",
       "      <td>-7310.645667</td>\n",
       "      <td>541.723638</td>\n",
       "      <td>1378.332515</td>\n",
       "      <td>-2958.210232</td>\n",
       "      <td>2</td>\n",
       "    </tr>\n",
       "    <tr>\n",
       "      <th>21</th>\n",
       "      <td>7132.946600</td>\n",
       "      <td>-9173.744715</td>\n",
       "      <td>-658.157777</td>\n",
       "      <td>1061.557639</td>\n",
       "      <td>-2180.625750</td>\n",
       "      <td>2</td>\n",
       "    </tr>\n",
       "    <tr>\n",
       "      <th>22</th>\n",
       "      <td>7109.986652</td>\n",
       "      <td>-8923.982917</td>\n",
       "      <td>-264.381498</td>\n",
       "      <td>1542.422969</td>\n",
       "      <td>-2230.551701</td>\n",
       "      <td>2</td>\n",
       "    </tr>\n",
       "    <tr>\n",
       "      <th>23</th>\n",
       "      <td>7343.233931</td>\n",
       "      <td>-8874.226752</td>\n",
       "      <td>-393.764502</td>\n",
       "      <td>1234.423665</td>\n",
       "      <td>-1920.774901</td>\n",
       "      <td>2</td>\n",
       "    </tr>\n",
       "    <tr>\n",
       "      <th>24</th>\n",
       "      <td>6817.097318</td>\n",
       "      <td>-8354.486159</td>\n",
       "      <td>-223.679279</td>\n",
       "      <td>1285.828682</td>\n",
       "      <td>-2696.339527</td>\n",
       "      <td>3</td>\n",
       "    </tr>\n",
       "    <tr>\n",
       "      <th>25</th>\n",
       "      <td>7011.214903</td>\n",
       "      <td>-8075.283414</td>\n",
       "      <td>-622.018210</td>\n",
       "      <td>421.171380</td>\n",
       "      <td>-2003.568137</td>\n",
       "      <td>3</td>\n",
       "    </tr>\n",
       "    <tr>\n",
       "      <th>26</th>\n",
       "      <td>7249.831692</td>\n",
       "      <td>-7901.726317</td>\n",
       "      <td>-251.219624</td>\n",
       "      <td>1343.708757</td>\n",
       "      <td>-2795.690970</td>\n",
       "      <td>3</td>\n",
       "    </tr>\n",
       "    <tr>\n",
       "      <th>27</th>\n",
       "      <td>7251.124420</td>\n",
       "      <td>-9135.879359</td>\n",
       "      <td>-928.959846</td>\n",
       "      <td>236.309004</td>\n",
       "      <td>-1778.239901</td>\n",
       "      <td>3</td>\n",
       "    </tr>\n",
       "    <tr>\n",
       "      <th>28</th>\n",
       "      <td>7323.336593</td>\n",
       "      <td>-9091.375316</td>\n",
       "      <td>-1062.135831</td>\n",
       "      <td>-364.035864</td>\n",
       "      <td>-1726.549802</td>\n",
       "      <td>3</td>\n",
       "    </tr>\n",
       "    <tr>\n",
       "      <th>29</th>\n",
       "      <td>8162.659953</td>\n",
       "      <td>-8596.639554</td>\n",
       "      <td>-964.498181</td>\n",
       "      <td>614.600892</td>\n",
       "      <td>-2881.186438</td>\n",
       "      <td>3</td>\n",
       "    </tr>\n",
       "    <tr>\n",
       "      <th>...</th>\n",
       "      <td>...</td>\n",
       "      <td>...</td>\n",
       "      <td>...</td>\n",
       "      <td>...</td>\n",
       "      <td>...</td>\n",
       "      <td>...</td>\n",
       "    </tr>\n",
       "    <tr>\n",
       "      <th>290</th>\n",
       "      <td>8965.642111</td>\n",
       "      <td>-7042.369565</td>\n",
       "      <td>1177.564004</td>\n",
       "      <td>-54.358871</td>\n",
       "      <td>-606.211971</td>\n",
       "      <td>36</td>\n",
       "    </tr>\n",
       "    <tr>\n",
       "      <th>291</th>\n",
       "      <td>8888.538538</td>\n",
       "      <td>-5051.128358</td>\n",
       "      <td>-141.227258</td>\n",
       "      <td>131.984750</td>\n",
       "      <td>-2648.517893</td>\n",
       "      <td>36</td>\n",
       "    </tr>\n",
       "    <tr>\n",
       "      <th>292</th>\n",
       "      <td>8335.301776</td>\n",
       "      <td>-5025.431911</td>\n",
       "      <td>-289.902869</td>\n",
       "      <td>362.226841</td>\n",
       "      <td>-1790.082572</td>\n",
       "      <td>36</td>\n",
       "    </tr>\n",
       "    <tr>\n",
       "      <th>293</th>\n",
       "      <td>8647.834073</td>\n",
       "      <td>-5126.794877</td>\n",
       "      <td>-332.379962</td>\n",
       "      <td>-65.456595</td>\n",
       "      <td>-1810.633240</td>\n",
       "      <td>36</td>\n",
       "    </tr>\n",
       "    <tr>\n",
       "      <th>294</th>\n",
       "      <td>8788.030083</td>\n",
       "      <td>-6998.862502</td>\n",
       "      <td>985.375847</td>\n",
       "      <td>-302.682024</td>\n",
       "      <td>-401.039173</td>\n",
       "      <td>36</td>\n",
       "    </tr>\n",
       "    <tr>\n",
       "      <th>295</th>\n",
       "      <td>8217.918845</td>\n",
       "      <td>-5360.997204</td>\n",
       "      <td>-447.236045</td>\n",
       "      <td>393.690667</td>\n",
       "      <td>-1829.583448</td>\n",
       "      <td>36</td>\n",
       "    </tr>\n",
       "    <tr>\n",
       "      <th>296</th>\n",
       "      <td>5246.617876</td>\n",
       "      <td>-8885.996926</td>\n",
       "      <td>-49.746069</td>\n",
       "      <td>1645.570380</td>\n",
       "      <td>-3034.244407</td>\n",
       "      <td>37</td>\n",
       "    </tr>\n",
       "    <tr>\n",
       "      <th>297</th>\n",
       "      <td>5210.438967</td>\n",
       "      <td>-8688.772247</td>\n",
       "      <td>-143.894603</td>\n",
       "      <td>1252.017509</td>\n",
       "      <td>-2678.227246</td>\n",
       "      <td>37</td>\n",
       "    </tr>\n",
       "    <tr>\n",
       "      <th>298</th>\n",
       "      <td>5467.924120</td>\n",
       "      <td>-8065.963528</td>\n",
       "      <td>135.464748</td>\n",
       "      <td>1949.393063</td>\n",
       "      <td>-2944.186374</td>\n",
       "      <td>37</td>\n",
       "    </tr>\n",
       "    <tr>\n",
       "      <th>299</th>\n",
       "      <td>5822.976810</td>\n",
       "      <td>-8915.491839</td>\n",
       "      <td>-663.809643</td>\n",
       "      <td>1042.494427</td>\n",
       "      <td>-1763.110909</td>\n",
       "      <td>37</td>\n",
       "    </tr>\n",
       "    <tr>\n",
       "      <th>300</th>\n",
       "      <td>5189.224463</td>\n",
       "      <td>-8462.434339</td>\n",
       "      <td>-141.097666</td>\n",
       "      <td>1404.969208</td>\n",
       "      <td>-2661.953744</td>\n",
       "      <td>37</td>\n",
       "    </tr>\n",
       "    <tr>\n",
       "      <th>301</th>\n",
       "      <td>5008.056304</td>\n",
       "      <td>-9012.717129</td>\n",
       "      <td>87.993790</td>\n",
       "      <td>1454.194074</td>\n",
       "      <td>-3419.948488</td>\n",
       "      <td>37</td>\n",
       "    </tr>\n",
       "    <tr>\n",
       "      <th>302</th>\n",
       "      <td>5366.845384</td>\n",
       "      <td>-8539.711562</td>\n",
       "      <td>-179.863205</td>\n",
       "      <td>1357.166812</td>\n",
       "      <td>-2297.482521</td>\n",
       "      <td>37</td>\n",
       "    </tr>\n",
       "    <tr>\n",
       "      <th>303</th>\n",
       "      <td>5130.614580</td>\n",
       "      <td>-9289.289902</td>\n",
       "      <td>-379.254188</td>\n",
       "      <td>769.969388</td>\n",
       "      <td>-2386.599367</td>\n",
       "      <td>37</td>\n",
       "    </tr>\n",
       "    <tr>\n",
       "      <th>304</th>\n",
       "      <td>4980.525207</td>\n",
       "      <td>-4841.833628</td>\n",
       "      <td>232.962651</td>\n",
       "      <td>244.481880</td>\n",
       "      <td>-2526.748797</td>\n",
       "      <td>38</td>\n",
       "    </tr>\n",
       "    <tr>\n",
       "      <th>305</th>\n",
       "      <td>4674.083577</td>\n",
       "      <td>-4723.065712</td>\n",
       "      <td>236.551127</td>\n",
       "      <td>-64.548788</td>\n",
       "      <td>-1735.693961</td>\n",
       "      <td>38</td>\n",
       "    </tr>\n",
       "    <tr>\n",
       "      <th>306</th>\n",
       "      <td>4162.375025</td>\n",
       "      <td>-4594.733384</td>\n",
       "      <td>183.940643</td>\n",
       "      <td>413.745179</td>\n",
       "      <td>-2916.905895</td>\n",
       "      <td>38</td>\n",
       "    </tr>\n",
       "    <tr>\n",
       "      <th>307</th>\n",
       "      <td>4430.873704</td>\n",
       "      <td>-4427.825268</td>\n",
       "      <td>-4.029121</td>\n",
       "      <td>550.881191</td>\n",
       "      <td>-2770.558040</td>\n",
       "      <td>38</td>\n",
       "    </tr>\n",
       "    <tr>\n",
       "      <th>308</th>\n",
       "      <td>4538.246195</td>\n",
       "      <td>-5425.622204</td>\n",
       "      <td>288.262669</td>\n",
       "      <td>595.528070</td>\n",
       "      <td>-3003.749789</td>\n",
       "      <td>38</td>\n",
       "    </tr>\n",
       "    <tr>\n",
       "      <th>309</th>\n",
       "      <td>4536.217957</td>\n",
       "      <td>-4768.110565</td>\n",
       "      <td>261.830261</td>\n",
       "      <td>-37.666440</td>\n",
       "      <td>-3728.378618</td>\n",
       "      <td>38</td>\n",
       "    </tr>\n",
       "    <tr>\n",
       "      <th>310</th>\n",
       "      <td>4442.124961</td>\n",
       "      <td>-6203.413699</td>\n",
       "      <td>507.182629</td>\n",
       "      <td>115.241489</td>\n",
       "      <td>-2329.278283</td>\n",
       "      <td>38</td>\n",
       "    </tr>\n",
       "    <tr>\n",
       "      <th>311</th>\n",
       "      <td>4659.984333</td>\n",
       "      <td>-6256.342103</td>\n",
       "      <td>481.412237</td>\n",
       "      <td>-190.390765</td>\n",
       "      <td>-2113.165005</td>\n",
       "      <td>38</td>\n",
       "    </tr>\n",
       "    <tr>\n",
       "      <th>312</th>\n",
       "      <td>7675.607330</td>\n",
       "      <td>-8729.964524</td>\n",
       "      <td>1047.255638</td>\n",
       "      <td>-413.438568</td>\n",
       "      <td>-1925.464972</td>\n",
       "      <td>39</td>\n",
       "    </tr>\n",
       "    <tr>\n",
       "      <th>313</th>\n",
       "      <td>7869.393861</td>\n",
       "      <td>-9355.527446</td>\n",
       "      <td>305.826329</td>\n",
       "      <td>-539.666808</td>\n",
       "      <td>-1652.401948</td>\n",
       "      <td>39</td>\n",
       "    </tr>\n",
       "    <tr>\n",
       "      <th>314</th>\n",
       "      <td>7779.168252</td>\n",
       "      <td>-9585.857584</td>\n",
       "      <td>470.401982</td>\n",
       "      <td>-1022.671663</td>\n",
       "      <td>-1527.442121</td>\n",
       "      <td>39</td>\n",
       "    </tr>\n",
       "    <tr>\n",
       "      <th>315</th>\n",
       "      <td>7673.610435</td>\n",
       "      <td>-7796.423957</td>\n",
       "      <td>1553.238364</td>\n",
       "      <td>1259.680382</td>\n",
       "      <td>-3669.536430</td>\n",
       "      <td>39</td>\n",
       "    </tr>\n",
       "    <tr>\n",
       "      <th>316</th>\n",
       "      <td>8034.871618</td>\n",
       "      <td>-9425.233116</td>\n",
       "      <td>374.176257</td>\n",
       "      <td>499.486703</td>\n",
       "      <td>-2615.599635</td>\n",
       "      <td>39</td>\n",
       "    </tr>\n",
       "    <tr>\n",
       "      <th>317</th>\n",
       "      <td>7547.578936</td>\n",
       "      <td>-8818.245779</td>\n",
       "      <td>1005.332327</td>\n",
       "      <td>423.498865</td>\n",
       "      <td>-2684.313773</td>\n",
       "      <td>39</td>\n",
       "    </tr>\n",
       "    <tr>\n",
       "      <th>318</th>\n",
       "      <td>8020.020293</td>\n",
       "      <td>-9110.196360</td>\n",
       "      <td>476.403589</td>\n",
       "      <td>651.677991</td>\n",
       "      <td>-3029.672130</td>\n",
       "      <td>39</td>\n",
       "    </tr>\n",
       "    <tr>\n",
       "      <th>319</th>\n",
       "      <td>7737.693059</td>\n",
       "      <td>-8766.618972</td>\n",
       "      <td>1011.118541</td>\n",
       "      <td>185.098491</td>\n",
       "      <td>-2163.815397</td>\n",
       "      <td>39</td>\n",
       "    </tr>\n",
       "  </tbody>\n",
       "</table>\n",
       "<p>320 rows × 6 columns</p>\n",
       "</div>"
      ],
      "text/plain": [
       "                a            b            c            d            e  labels\n",
       "0     8445.494136 -8995.723165 -2514.337342   105.175349 -3159.114367       0\n",
       "1     9982.412619 -8813.266507  -421.925021 -1073.791893 -5155.909217       0\n",
       "2     9674.090757 -8452.533205 -1715.637745   328.363912 -3468.639442       0\n",
       "3    10137.439871 -9152.249570  -693.163495 -2535.909326 -2580.488637       0\n",
       "4    10581.363279 -8884.084843  -969.242991 -1947.921261 -2763.226319       0\n",
       "5     9472.868933 -9095.334581  -902.697031 -1517.824170 -4251.844837       0\n",
       "6     9346.512263 -8741.423128 -1919.225690  -674.153378 -3573.371604       0\n",
       "7     9757.115326 -8428.777563 -1794.399129 -1673.150843 -1236.784403       0\n",
       "8     7990.401037 -7099.532010 -2047.911154  -298.560589 -2602.266623       1\n",
       "9     7865.724252 -7208.821631 -2266.866885   371.902920 -3037.236927       1\n",
       "10    8143.741325 -7075.850072 -1966.563955   150.559271 -2652.486591       1\n",
       "11    7837.097465 -7040.487530 -2212.338175   308.508110 -2989.628977       1\n",
       "12    7998.966386 -7314.819619 -2071.932512   -85.047329 -3247.365467       1\n",
       "13    7565.501803 -7169.759962 -2173.835942   564.346961 -3502.846071       1\n",
       "14    8522.227155 -6951.163942 -1369.661890  -231.679339 -2666.684269       1\n",
       "15    8234.462527 -7006.014214 -1817.698105     6.395195 -2714.380644       1\n",
       "16    7106.530061 -8170.987224    47.568017   599.769415 -1657.531637       2\n",
       "17    6946.251797 -8339.082474   105.002131  -156.684514 -1386.425585       2\n",
       "18    7247.214710 -8353.723595   -97.194675  -111.586315 -1144.174453       2\n",
       "19    8041.930754 -7605.320107   251.477311  1348.610518 -2495.421941       2\n",
       "20    8247.793040 -7310.645667   541.723638  1378.332515 -2958.210232       2\n",
       "21    7132.946600 -9173.744715  -658.157777  1061.557639 -2180.625750       2\n",
       "22    7109.986652 -8923.982917  -264.381498  1542.422969 -2230.551701       2\n",
       "23    7343.233931 -8874.226752  -393.764502  1234.423665 -1920.774901       2\n",
       "24    6817.097318 -8354.486159  -223.679279  1285.828682 -2696.339527       3\n",
       "25    7011.214903 -8075.283414  -622.018210   421.171380 -2003.568137       3\n",
       "26    7249.831692 -7901.726317  -251.219624  1343.708757 -2795.690970       3\n",
       "27    7251.124420 -9135.879359  -928.959846   236.309004 -1778.239901       3\n",
       "28    7323.336593 -9091.375316 -1062.135831  -364.035864 -1726.549802       3\n",
       "29    8162.659953 -8596.639554  -964.498181   614.600892 -2881.186438       3\n",
       "..            ...          ...          ...          ...          ...     ...\n",
       "290   8965.642111 -7042.369565  1177.564004   -54.358871  -606.211971      36\n",
       "291   8888.538538 -5051.128358  -141.227258   131.984750 -2648.517893      36\n",
       "292   8335.301776 -5025.431911  -289.902869   362.226841 -1790.082572      36\n",
       "293   8647.834073 -5126.794877  -332.379962   -65.456595 -1810.633240      36\n",
       "294   8788.030083 -6998.862502   985.375847  -302.682024  -401.039173      36\n",
       "295   8217.918845 -5360.997204  -447.236045   393.690667 -1829.583448      36\n",
       "296   5246.617876 -8885.996926   -49.746069  1645.570380 -3034.244407      37\n",
       "297   5210.438967 -8688.772247  -143.894603  1252.017509 -2678.227246      37\n",
       "298   5467.924120 -8065.963528   135.464748  1949.393063 -2944.186374      37\n",
       "299   5822.976810 -8915.491839  -663.809643  1042.494427 -1763.110909      37\n",
       "300   5189.224463 -8462.434339  -141.097666  1404.969208 -2661.953744      37\n",
       "301   5008.056304 -9012.717129    87.993790  1454.194074 -3419.948488      37\n",
       "302   5366.845384 -8539.711562  -179.863205  1357.166812 -2297.482521      37\n",
       "303   5130.614580 -9289.289902  -379.254188   769.969388 -2386.599367      37\n",
       "304   4980.525207 -4841.833628   232.962651   244.481880 -2526.748797      38\n",
       "305   4674.083577 -4723.065712   236.551127   -64.548788 -1735.693961      38\n",
       "306   4162.375025 -4594.733384   183.940643   413.745179 -2916.905895      38\n",
       "307   4430.873704 -4427.825268    -4.029121   550.881191 -2770.558040      38\n",
       "308   4538.246195 -5425.622204   288.262669   595.528070 -3003.749789      38\n",
       "309   4536.217957 -4768.110565   261.830261   -37.666440 -3728.378618      38\n",
       "310   4442.124961 -6203.413699   507.182629   115.241489 -2329.278283      38\n",
       "311   4659.984333 -6256.342103   481.412237  -190.390765 -2113.165005      38\n",
       "312   7675.607330 -8729.964524  1047.255638  -413.438568 -1925.464972      39\n",
       "313   7869.393861 -9355.527446   305.826329  -539.666808 -1652.401948      39\n",
       "314   7779.168252 -9585.857584   470.401982 -1022.671663 -1527.442121      39\n",
       "315   7673.610435 -7796.423957  1553.238364  1259.680382 -3669.536430      39\n",
       "316   8034.871618 -9425.233116   374.176257   499.486703 -2615.599635      39\n",
       "317   7547.578936 -8818.245779  1005.332327   423.498865 -2684.313773      39\n",
       "318   8020.020293 -9110.196360   476.403589   651.677991 -3029.672130      39\n",
       "319   7737.693059 -8766.618972  1011.118541   185.098491 -2163.815397      39\n",
       "\n",
       "[320 rows x 6 columns]"
      ]
     },
     "execution_count": 36,
     "metadata": {},
     "output_type": "execute_result"
    }
   ],
   "source": [
    "frame = pd.DataFrame(frame)\n",
    "frame['labels'] = labels\n",
    "frame"
   ]
  },
  {
   "cell_type": "markdown",
   "metadata": {},
   "source": [
    "### Nova foto "
   ]
  },
  {
   "cell_type": "code",
   "execution_count": 37,
   "metadata": {
    "collapsed": true
   },
   "outputs": [],
   "source": [
    "nova_foto = plt.imread(\"/home/sayuri/Documentos/FGV-Intro-Python/eigenfaces/s4/9.pgm\")"
   ]
  },
  {
   "cell_type": "code",
   "execution_count": 38,
   "metadata": {
    "collapsed": false
   },
   "outputs": [],
   "source": [
    "nova_foto=plt.concatenate(nova_foto)"
   ]
  },
  {
   "cell_type": "code",
   "execution_count": 39,
   "metadata": {
    "collapsed": false
   },
   "outputs": [],
   "source": [
    "nova_foto_menos_media=nova_foto"
   ]
  },
  {
   "cell_type": "code",
   "execution_count": 40,
   "metadata": {
    "collapsed": false
   },
   "outputs": [
    {
     "name": "stderr",
     "output_type": "stream",
     "text": [
      "/usr/local/lib/python3.5/dist-packages/sklearn/utils/validation.py:395: DeprecationWarning: Passing 1d arrays as data is deprecated in 0.17 and will raise ValueError in 0.19. Reshape your data either using X.reshape(-1, 1) if your data has a single feature or X.reshape(1, -1) if it contains a single sample.\n",
      "  DeprecationWarning)\n"
     ]
    },
    {
     "data": {
      "text/plain": [
       "array([[ 6839.00301755, -8312.5920384 ,  -539.93833762,   504.80773835,\n",
       "        -2103.08117215]])"
      ]
     },
     "execution_count": 40,
     "metadata": {},
     "output_type": "execute_result"
    }
   ],
   "source": [
    "new_dado = pca.transform(nova_foto_menos_media)\n",
    "new_dado"
   ]
  },
  {
   "cell_type": "code",
   "execution_count": 41,
   "metadata": {
    "collapsed": false
   },
   "outputs": [],
   "source": [
    "x = np.array(frame.drop(['labels'],1))\n",
    "y = x - new_dado\n",
    "y = np.sum(y**2,axis=1)\n",
    "y = list(y)"
   ]
  },
  {
   "cell_type": "code",
   "execution_count": 42,
   "metadata": {
    "collapsed": false
   },
   "outputs": [
    {
     "data": {
      "text/plain": [
       "4"
      ]
     },
     "execution_count": 42,
     "metadata": {},
     "output_type": "execute_result"
    }
   ],
   "source": [
    "v = y.index(min(y))//8+1\n",
    "v"
   ]
  },
  {
   "cell_type": "markdown",
   "metadata": {
    "collapsed": true
   },
   "source": [
    "## FIM  : )"
   ]
  }
 ],
 "metadata": {
  "kernelspec": {
   "display_name": "Python 3",
   "language": "python",
   "name": "python3"
  },
  "language_info": {
   "codemirror_mode": {
    "name": "ipython",
    "version": 3
   },
   "file_extension": ".py",
   "mimetype": "text/x-python",
   "name": "python",
   "nbconvert_exporter": "python",
   "pygments_lexer": "ipython3",
   "version": "3.5.2"
  }
 },
 "nbformat": 4,
 "nbformat_minor": 1
}
